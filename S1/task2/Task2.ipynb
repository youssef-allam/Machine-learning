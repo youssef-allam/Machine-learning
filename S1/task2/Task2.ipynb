{
 "cells": [
  {
   "cell_type": "markdown",
   "metadata": {},
   "source": [
    "# Task 2"
   ]
  },
  {
   "cell_type": "markdown",
   "metadata": {},
   "source": [
    "### importing libraries"
   ]
  },
  {
   "cell_type": "code",
   "execution_count": 597,
   "metadata": {},
   "outputs": [],
   "source": [
    "import pickle\n",
    "import numpy as np"
   ]
  },
  {
   "cell_type": "markdown",
   "metadata": {},
   "source": [
    "### load and prepare data"
   ]
  },
  {
   "cell_type": "code",
   "execution_count": 598,
   "metadata": {},
   "outputs": [],
   "source": [
    "from hmac import trans_36\n",
    "from sklearn.model_selection import train_test_split\n",
    "\n",
    "data = pickle.load(open(\"data\\dataset.pkl\", \"rb\"))\n",
    "\n",
    "train , test = train_test_split( data.values , test_size=0.2, random_state=10)\n",
    "train , val = train_test_split( train , test_size=0.25, random_state=10)\n",
    "\n"
   ]
  },
  {
   "cell_type": "markdown",
   "metadata": {},
   "source": [
    "# K-NN"
   ]
  },
  {
   "cell_type": "code",
   "execution_count": 599,
   "metadata": {},
   "outputs": [
    {
     "name": "stdout",
     "output_type": "stream",
     "text": [
      "val Score 0.5161598056075337\n",
      "test Score 0.4825034553001404\n"
     ]
    }
   ],
   "source": [
    "from sklearn.neighbors import KNeighborsRegressor\n",
    "\n",
    "#build\n",
    "neigh = KNeighborsRegressor(n_neighbors = 16)\n",
    "\n",
    "neigh.fit(train[1:,:-1],train[1:,-1]) \n",
    "\n",
    "\n",
    "#validate\n",
    "print(\"val Score\" , neigh.score(val[1:,:-1],val[1:,-1]))\n",
    "\n",
    "#test\n",
    "print(\"test Score\" , neigh.score(test[1:,:-1],test[1:,-1]))"
   ]
  },
  {
   "cell_type": "markdown",
   "metadata": {},
   "source": [
    "# Decision Tree"
   ]
  },
  {
   "cell_type": "code",
   "execution_count": 604,
   "metadata": {},
   "outputs": [
    {
     "name": "stdout",
     "output_type": "stream",
     "text": [
      "val Score 0.34284520677219377\n",
      "test Score 0.416045556134909\n"
     ]
    }
   ],
   "source": [
    "from sklearn.tree import DecisionTreeRegressor\n",
    "\n",
    "#build\n",
    "T_reg = DecisionTreeRegressor(max_depth=3)\n",
    "T_reg.fit(train[:,:-1],train[:,-1]) \n",
    "\n",
    "#validate\n",
    "print(\"val Score\" , T_reg.score(val[:,:-1],val[:,-1]))\n",
    "\n",
    "#test\n",
    "print(\"test Score\" , T_reg.score(test[:,:-1],test[:,-1]))"
   ]
  },
  {
   "cell_type": "markdown",
   "metadata": {},
   "source": [
    "# Linear Regression"
   ]
  },
  {
   "cell_type": "code",
   "execution_count": 601,
   "metadata": {},
   "outputs": [
    {
     "name": "stdout",
     "output_type": "stream",
     "text": [
      "val Score 0.6058415069389365\n",
      "test Score 0.5233735611017837\n"
     ]
    }
   ],
   "source": [
    "from sklearn.linear_model import LinearRegression\n",
    "#build\n",
    "reg = LinearRegression()\n",
    "reg.fit(train[:,:-1],train[:,-1]) \n",
    "\n",
    "#validate\n",
    "print(\"val Score\" , reg.score(val[:,:-1],val[:,-1]))\n",
    "\n",
    "#test\n",
    "print(\"test Score\" , reg.score(test[:,:-1],test[:,-1]))\n",
    "\n"
   ]
  },
  {
   "cell_type": "markdown",
   "metadata": {},
   "source": [
    "# conclusion"
   ]
  },
  {
   "cell_type": "markdown",
   "metadata": {},
   "source": [
    "### There are 3 main metrics for model evaluation in regression:\n",
    "1. R Square/Adjusted R Square.\n",
    "2. Mean Square Error(MSE)/Root Mean Square Error(RMSE)\n",
    "3. Mean Absolute Error(MAE)\n",
    "\n",
    "after using the .score() method with the three models I did not get a quite well result but <br/>\n",
    "even if all results are quite similar  but i can say that the best result i got was from <br/>\n",
    "the \"<b>Linear Regression</b>\",  after that the \"<b>k-NN</b>\" and the last model is \"<b>decision tree</b>\" which was not so helpful."
   ]
  }
 ],
 "metadata": {
  "kernelspec": {
   "display_name": "Python 3.10.5 64-bit",
   "language": "python",
   "name": "python3"
  },
  "language_info": {
   "codemirror_mode": {
    "name": "ipython",
    "version": 3
   },
   "file_extension": ".py",
   "mimetype": "text/x-python",
   "name": "python",
   "nbconvert_exporter": "python",
   "pygments_lexer": "ipython3",
   "version": "3.10.5"
  },
  "orig_nbformat": 4,
  "vscode": {
   "interpreter": {
    "hash": "4e1fc3fa23fb62f3f701e1450a48be1e01c4f473533356521fe76f63c343b8fd"
   }
  }
 },
 "nbformat": 4,
 "nbformat_minor": 2
}
